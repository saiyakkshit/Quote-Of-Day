{
  "nbformat": 4,
  "nbformat_minor": 0,
  "metadata": {
    "colab": {
      "provenance": [],
      "include_colab_link": true
    },
    "kernelspec": {
      "name": "python3",
      "display_name": "Python 3"
    },
    "language_info": {
      "name": "python"
    }
  },
  "cells": [
    {
      "cell_type": "markdown",
      "metadata": {
        "id": "view-in-github",
        "colab_type": "text"
      },
      "source": [
        "<a href=\"https://colab.research.google.com/github/saiyakkshit/Tip-of-Day/blob/main/tip_of_the_day.ipynb\" target=\"_parent\"><img src=\"https://colab.research.google.com/assets/colab-badge.svg\" alt=\"Open In Colab\"/></a>"
      ]
    },
    {
      "cell_type": "code",
      "execution_count": 2,
      "metadata": {
        "colab": {
          "base_uri": "https://localhost:8080/"
        },
        "id": "IYvBoXSqsa_Z",
        "outputId": "b93898bc-23b1-4ca9-dd23-1964c4880454"
      },
      "outputs": [
        {
          "output_type": "stream",
          "name": "stdout",
          "text": [
            "Looking in indexes: https://pypi.org/simple, https://us-python.pkg.dev/colab-wheels/public/simple/\n",
            "Collecting trycourier\n",
            "  Downloading trycourier-4.4.0-py3-none-any.whl (30 kB)\n",
            "Requirement already satisfied: requests>=2.23.0 in /usr/local/lib/python3.9/dist-packages (from trycourier) (2.27.1)\n",
            "Requirement already satisfied: charset-normalizer~=2.0.0 in /usr/local/lib/python3.9/dist-packages (from requests>=2.23.0->trycourier) (2.0.12)\n",
            "Requirement already satisfied: certifi>=2017.4.17 in /usr/local/lib/python3.9/dist-packages (from requests>=2.23.0->trycourier) (2022.12.7)\n",
            "Requirement already satisfied: urllib3<1.27,>=1.21.1 in /usr/local/lib/python3.9/dist-packages (from requests>=2.23.0->trycourier) (1.26.15)\n",
            "Requirement already satisfied: idna<4,>=2.5 in /usr/local/lib/python3.9/dist-packages (from requests>=2.23.0->trycourier) (3.4)\n",
            "Installing collected packages: trycourier\n",
            "Successfully installed trycourier-4.4.0\n"
          ]
        }
      ],
      "source": [
        "!pip install trycourier"
      ]
    },
    {
      "cell_type": "code",
      "source": [
        "!git init"
      ],
      "metadata": {
        "colab": {
          "base_uri": "https://localhost:8080/"
        },
        "id": "O7yBeCuzXni0",
        "outputId": "72e59b6d-1754-485b-deac-5c8b44d98b49"
      },
      "execution_count": 3,
      "outputs": [
        {
          "output_type": "stream",
          "name": "stdout",
          "text": [
            "Initialized empty Git repository in /content/.git/\n"
          ]
        }
      ]
    },
    {
      "cell_type": "code",
      "source": [
        "import smtplib\n",
        "from email.message import EmailMessage"
      ],
      "metadata": {
        "id": "loULXZtQ4gaF"
      },
      "execution_count": 4,
      "outputs": []
    },
    {
      "cell_type": "code",
      "source": [
        "from google.colab import files\n",
        "import pandas as pd\n",
        "from trycourier import Courier\n",
        "import sys\n",
        "import datetime\n",
        "import random"
      ],
      "metadata": {
        "id": "qbBUKKL3fa7T"
      },
      "execution_count": 5,
      "outputs": []
    },
    {
      "cell_type": "code",
      "source": [
        "ds = pd.read_csv('https://raw.githubusercontent.com/saiyakkshit/Tip-of-Day/main/quotes_dataset/popular_quotes.csv')"
      ],
      "metadata": {
        "id": "0tNlaYQBlJIK"
      },
      "execution_count": 7,
      "outputs": []
    },
    {
      "cell_type": "code",
      "source": [
        "df = pd.DataFrame(ds)\n",
        "DailyQuote = df['quotes']\n",
        "random_qoutes = random.choice(DailyQuote)"
      ],
      "metadata": {
        "id": "PTh_XN6r6X8T"
      },
      "execution_count": 8,
      "outputs": []
    },
    {
      "cell_type": "code",
      "source": [
        "# DailyQuote = new_ds.head(1)\n",
        "print(random_qoutes)"
      ],
      "metadata": {
        "colab": {
          "base_uri": "https://localhost:8080/"
        },
        "id": "7rypxCf92UdA",
        "outputId": "a58330c4-87e9-40e6-9945-fa7d9c88ae32"
      },
      "execution_count": 9,
      "outputs": [
        {
          "output_type": "stream",
          "name": "stdout",
          "text": [
            "Of all forms of caution, caution in love is perhaps the most fatal to true happiness.\n"
          ]
        }
      ]
    },
    {
      "cell_type": "code",
      "source": [
        "now = datetime.datetime.now()\n",
        "current_time = now.strftime('%H:%M')\n",
        "print(current_time)"
      ],
      "metadata": {
        "colab": {
          "base_uri": "https://localhost:8080/"
        },
        "id": "J3_ySc82_bxT",
        "outputId": "d84717e2-753d-462d-b381-15717b7bc8fb"
      },
      "execution_count": 10,
      "outputs": [
        {
          "output_type": "stream",
          "name": "stdout",
          "text": [
            "21:24\n"
          ]
        }
      ]
    },
    {
      "cell_type": "code",
      "source": [
        "recipientmail = ['obka22@student.bth.se','absk22@student.bth.se','hemendranath0573@gmail.com','saiyakkshit2001@gmail.com','yakkshit.tactopus@gmail.com']\n",
        "if current_time == \"23:01\":\n",
        "  for i in range(0,5):\n",
        "    client = Courier(auth_token=\"pk_prod_8FD951KRB8MKGXQCTA2XX725WSHH\") #or set via COURIER_AUTH_TOKEN env var\n",
        "    #yakkshit.tactopus@gmail.com\n",
        "    resp = client.send_message(\n",
        "      message={\n",
        "        'to': {\n",
        "          'email': recipientmail[i],\n",
        "          'data': {'name': 'enjoy pandago friends ', 'Subject' : random_qoutes}\n",
        "        },\n",
        "        'content': {\n",
        "          'title': 'Tip of the Day',\n",
        "          'body': '{name} Quote of the day is {Subject}',\n",
        "        },\n",
        "        'routing': {\n",
        "          'method': 'single',\n",
        "          'channels': ['email'],\n",
        "        }\n",
        "      }\n",
        "    )\n",
        "    print(resp['requestId'])"
      ],
      "metadata": {
        "id": "VylGXXAE9dnB"
      },
      "execution_count": 11,
      "outputs": []
    }
  ]
}