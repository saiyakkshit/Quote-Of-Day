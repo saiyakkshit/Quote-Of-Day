{
  "nbformat": 4,
  "nbformat_minor": 0,
  "metadata": {
    "colab": {
      "provenance": [],
      "include_colab_link": true
    },
    "kernelspec": {
      "name": "python3",
      "display_name": "Python 3"
    },
    "language_info": {
      "name": "python"
    }
  },
  "cells": [
    {
      "cell_type": "markdown",
      "metadata": {
        "id": "view-in-github",
        "colab_type": "text"
      },
      "source": [
        "<a href=\"https://colab.research.google.com/github/saiyakkshit/Tip-of-Day/blob/main/tip_of_the_day.ipynb\" target=\"_parent\"><img src=\"https://colab.research.google.com/assets/colab-badge.svg\" alt=\"Open In Colab\"/></a>"
      ]
    },
    {
      "cell_type": "code",
      "execution_count": 26,
      "metadata": {
        "colab": {
          "base_uri": "https://localhost:8080/"
        },
        "id": "IYvBoXSqsa_Z",
        "outputId": "6c120fc5-75dd-4a40-c473-dea119660a7c"
      },
      "outputs": [
        {
          "output_type": "stream",
          "name": "stdout",
          "text": [
            "Looking in indexes: https://pypi.org/simple, https://us-python.pkg.dev/colab-wheels/public/simple/\n",
            "Requirement already satisfied: trycourier in /usr/local/lib/python3.9/dist-packages (4.4.0)\n",
            "Requirement already satisfied: requests>=2.23.0 in /usr/local/lib/python3.9/dist-packages (from trycourier) (2.27.1)\n",
            "Requirement already satisfied: certifi>=2017.4.17 in /usr/local/lib/python3.9/dist-packages (from requests>=2.23.0->trycourier) (2022.12.7)\n",
            "Requirement already satisfied: charset-normalizer~=2.0.0 in /usr/local/lib/python3.9/dist-packages (from requests>=2.23.0->trycourier) (2.0.12)\n",
            "Requirement already satisfied: idna<4,>=2.5 in /usr/local/lib/python3.9/dist-packages (from requests>=2.23.0->trycourier) (3.4)\n",
            "Requirement already satisfied: urllib3<1.27,>=1.21.1 in /usr/local/lib/python3.9/dist-packages (from requests>=2.23.0->trycourier) (1.26.15)\n"
          ]
        }
      ],
      "source": [
        "!pip install trycourier"
      ]
    },
    {
      "cell_type": "code",
      "source": [
        "!git init"
      ],
      "metadata": {
        "colab": {
          "base_uri": "https://localhost:8080/"
        },
        "id": "O7yBeCuzXni0",
        "outputId": "28ccca0a-28dd-4cbe-c839-aec667670285"
      },
      "execution_count": 27,
      "outputs": [
        {
          "output_type": "stream",
          "name": "stdout",
          "text": [
            "Reinitialized existing Git repository in /content/.git/\n"
          ]
        }
      ]
    },
    {
      "cell_type": "code",
      "source": [
        "import smtplib\n",
        "from email.message import EmailMessage"
      ],
      "metadata": {
        "id": "loULXZtQ4gaF"
      },
      "execution_count": 28,
      "outputs": []
    },
    {
      "cell_type": "code",
      "source": [
        "!pip install schedule"
      ],
      "metadata": {
        "id": "Uol4ohjU8VLH",
        "outputId": "7b532003-750d-42da-d1d8-bab8498057a2",
        "colab": {
          "base_uri": "https://localhost:8080/"
        }
      },
      "execution_count": 29,
      "outputs": [
        {
          "output_type": "stream",
          "name": "stdout",
          "text": [
            "Looking in indexes: https://pypi.org/simple, https://us-python.pkg.dev/colab-wheels/public/simple/\n",
            "Requirement already satisfied: schedule in /usr/local/lib/python3.9/dist-packages (1.2.0)\n"
          ]
        }
      ]
    },
    {
      "cell_type": "code",
      "source": [
        "from google.colab import files\n",
        "import pandas as pd\n",
        "from trycourier import Courier\n",
        "import sys\n",
        "import datetime\n",
        "import random\n",
        "import time as tm\n",
        "\n",
        "import schedule\n",
        "from datetime import time, timedelta, datetime"
      ],
      "metadata": {
        "id": "qbBUKKL3fa7T"
      },
      "execution_count": 30,
      "outputs": []
    },
    {
      "cell_type": "code",
      "source": [
        "ds = pd.read_csv('https://raw.githubusercontent.com/saiyakkshit/Tip-of-Day/main/quotes_dataset/popular_quotes.csv')"
      ],
      "metadata": {
        "id": "0tNlaYQBlJIK"
      },
      "execution_count": 31,
      "outputs": []
    },
    {
      "cell_type": "code",
      "source": [
        "df = pd.DataFrame(ds)\n",
        "DailyQuote = df['quotes']\n",
        "random_qoutes = random.choice(DailyQuote)"
      ],
      "metadata": {
        "id": "PTh_XN6r6X8T"
      },
      "execution_count": 32,
      "outputs": []
    },
    {
      "cell_type": "code",
      "source": [
        "# DailyQuote = new_ds.head(1)\n",
        "print(random_qoutes)"
      ],
      "metadata": {
        "colab": {
          "base_uri": "https://localhost:8080/"
        },
        "id": "7rypxCf92UdA",
        "outputId": "3ca33575-f54b-45a9-de69-1a5b54ea58a1"
      },
      "execution_count": 33,
      "outputs": [
        {
          "output_type": "stream",
          "name": "stdout",
          "text": [
            "If you have two friends in your lifetime, you're lucky. If you have one good friend, you're more than lucky.\n"
          ]
        }
      ]
    },
    {
      "cell_type": "code",
      "source": [
        "now = datetime.now()\n",
        "current_time = now.strftime('%H:%M')\n",
        "print(current_time)"
      ],
      "metadata": {
        "colab": {
          "base_uri": "https://localhost:8080/"
        },
        "id": "J3_ySc82_bxT",
        "outputId": "f1079134-1e99-43b8-c33a-878363f46a40"
      },
      "execution_count": 34,
      "outputs": [
        {
          "output_type": "stream",
          "name": "stdout",
          "text": [
            "14:43\n"
          ]
        }
      ]
    },
    {
      "cell_type": "code",
      "source": [
        "recipientmail = ['obka22@student.bth.se','absk22@student.bth.se','hemendranath0573@gmail.com','saiyakkshit2001@gmail.com','yakkshit.tactopus@gmail.com']\n",
        "def job(recipientmail):\n",
        "  for i in range(0,5):\n",
        "      client = Courier(auth_token=\"pk_prod_8FD951KRB8MKGXQCTA2XX725WSHH\") #or set via COURIER_AUTH_TOKEN env var\n",
        "      #yakkshit.tactopus@gmail.com\n",
        "      resp = client.send_message(\n",
        "        message={\n",
        "          'to': {\n",
        "            'email': recipientmail[i],\n",
        "            'data': {'name': 'enjoy pandago friends ', 'Subject' : random_qoutes}\n",
        "          },\n",
        "          'content': {\n",
        "            'title': 'Tip of the Day',\n",
        "            'body': '{name} Quote of the day is {Subject}',\n",
        "          },\n",
        "          'routing': {\n",
        "            'method': 'single',\n",
        "            'channels': ['email'],\n",
        "          }\n",
        "        }\n",
        "      )\n",
        "      print(resp['requestId'])"
      ],
      "metadata": {
        "id": "VylGXXAE9dnB"
      },
      "execution_count": 35,
      "outputs": []
    },
    {
      "cell_type": "code",
      "source": [
        "schedule.every().day.at(\"16:42\").do(job)"
      ],
      "metadata": {
        "id": "9ltg3Gsc6Azl",
        "outputId": "373e2297-4f64-4e89-ed90-d70ad900fff9",
        "colab": {
          "base_uri": "https://localhost:8080/"
        }
      },
      "execution_count": 36,
      "outputs": [
        {
          "output_type": "execute_result",
          "data": {
            "text/plain": [
              "Every 1 day at 16:42:00 do job() (last run: [never], next run: 2023-04-26 16:42:00)"
            ]
          },
          "metadata": {},
          "execution_count": 36
        }
      ]
    }
  ]
}